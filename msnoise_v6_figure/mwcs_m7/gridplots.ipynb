{
 "cells": [
  {
   "cell_type": "markdown",
   "metadata": {},
   "source": []
  },
  {
   "cell_type": "code",
   "execution_count": 33,
   "metadata": {},
   "outputs": [],
   "source": [
    "import os\n",
    "import matplotlib.pyplot as plt\n",
    "import matplotlib.image as mpimg"
   ]
  },
  {
   "cell_type": "code",
   "execution_count": 42,
   "metadata": {},
   "outputs": [
    {
     "name": "stdout",
     "output_type": "stream",
     "text": [
      "['mwcs CH_BALST_CH_BOURR-ZZ-f1-m7.pdf', 'mwcs CH_BALST_CH_BOURR-ZZ-f2-m7.pdf', 'mwcs CH_BALST_CH_BOURR-ZZ-f3-m7.pdf', 'mwcs CH_BALST_CH_BOURR-ZZ-f4-m7.pdf', 'mwcs CH_BALST_CH_BOURR-ZZ-f5-m7.pdf', 'mwcs CH_BALST_CH_BOURR-ZZ-f6-m7.pdf', 'mwcs CH_BALST_CH_BOURR-ZZ-f7-m7.pdf']\n"
     ]
    }
   ],
   "source": [
    "nameBB = 'mwcs CH_BALST_CH_BOURR-ZZ'\n",
    "filenames = os.listdir()\n",
    "string = [x for x in filenames if nameBB in x]\n",
    "string = sorted(string)\n",
    "print(string)\n"
   ]
  }
 ],
 "metadata": {
  "kernelspec": {
   "display_name": "obspy_env",
   "language": "python",
   "name": "python3"
  },
  "language_info": {
   "codemirror_mode": {
    "name": "ipython",
    "version": 3
   },
   "file_extension": ".py",
   "mimetype": "text/x-python",
   "name": "python",
   "nbconvert_exporter": "python",
   "pygments_lexer": "ipython3",
   "version": "3.11.6"
  }
 },
 "nbformat": 4,
 "nbformat_minor": 2
}
